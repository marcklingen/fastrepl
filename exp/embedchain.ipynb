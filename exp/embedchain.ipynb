{
 "cells": [
  {
   "cell_type": "code",
   "execution_count": 1,
   "metadata": {},
   "outputs": [
    {
     "name": "stdout",
     "output_type": "stream",
     "text": [
      "Note: you may need to restart the kernel to use updated packages.\n"
     ]
    }
   ],
   "source": [
    "%pip install -qq -U embedchain"
   ]
  },
  {
   "cell_type": "code",
   "execution_count": 2,
   "metadata": {},
   "outputs": [],
   "source": [
    "from IPython.display import Markdown"
   ]
  },
  {
   "cell_type": "code",
   "execution_count": 3,
   "metadata": {},
   "outputs": [
    {
     "name": "stdout",
     "output_type": "stream",
     "text": [
      "Doc content has not changed. Skipping creating chunks and embeddings\n"
     ]
    },
    {
     "data": {
      "text/plain": [
       "'161fcad59ba37a28e60a45f5355dab43'"
      ]
     },
     "execution_count": 3,
     "metadata": {},
     "output_type": "execute_result"
    }
   ],
   "source": [
    "from embedchain import App\n",
    "\n",
    "pg_bot = App()\n",
    "pg_bot.add(\"http://paulgraham.com/greatwork.html\")"
   ]
  },
  {
   "cell_type": "code",
   "execution_count": 4,
   "metadata": {},
   "outputs": [
    {
     "data": {
      "text/markdown": [
       "\n",
       "  Use the following pieces of context to answer the query at the end.\n",
       "  If you don't know the answer, just say that you don't know, don't try to make up an answer.\n",
       "\n",
       "  interesting, which you necessarily will if you're on the right path, the work will probably feel less burdensome than a lot of your peers'.The discoveries are out there, waiting to be made. Why not by you? Notes[1] I don't think you could give a precise definition of what counts as great work. Doing great work means doing something important so well that you expand people's ideas of what's possible. But there's no threshold for importance. It's a matter of degree, and often hard to judge at the\n",
       "\n",
       "  Query: how to do great work?\n",
       "\n",
       "  Helpful Answer:\n"
      ],
      "text/plain": [
       "<IPython.core.display.Markdown object>"
      ]
     },
     "execution_count": 4,
     "metadata": {},
     "output_type": "execute_result"
    }
   ],
   "source": [
    "res = pg_bot.query(\"how to do great work?\", dry_run=True)\n",
    "Markdown(res)"
   ]
  },
  {
   "cell_type": "code",
   "execution_count": 5,
   "metadata": {},
   "outputs": [
    {
     "data": {
      "text/markdown": [
       "interesting, which you necessarily will if you're on the right path, the work will probably feel less burdensome than a lot of your peers'.The discoveries are out there, waiting to be made. Why not by you? Notes[1] I don't think you could give a precise definition of what counts as great work. Doing great work means doing something important so well that you expand people's ideas of what's possible. But there's no threshold for importance. It's a matter of degree, and often hard to judge at the"
      ],
      "text/plain": [
       "<IPython.core.display.Markdown object>"
      ]
     },
     "execution_count": 5,
     "metadata": {},
     "output_type": "execute_result"
    }
   ],
   "source": [
    "res = pg_bot.retrieve_from_database(\"how to do great work?\")\n",
    "Markdown(res[0])"
   ]
  },
  {
   "cell_type": "code",
   "execution_count": 6,
   "metadata": {},
   "outputs": [],
   "source": [
    "import fastrepl\n",
    "\n",
    "# grab one from app.fastrepl.com\n",
    "fastrepl.api_key = \"\""
   ]
  },
  {
   "cell_type": "code",
   "execution_count": 7,
   "metadata": {},
   "outputs": [],
   "source": [
    "generator = fastrepl.QuestionGenerator(source=\"http://paulgraham.com/greatwork.html\")"
   ]
  },
  {
   "cell_type": "code",
   "execution_count": 8,
   "metadata": {},
   "outputs": [
    {
     "data": {
      "application/vnd.jupyter.widget-view+json": {
       "model_id": "2b27a6ad395b4c5580d24c98b572f1c6",
       "version_major": 2,
       "version_minor": 0
      },
      "text/plain": [
       "Output()"
      ]
     },
     "metadata": {},
     "output_type": "display_data"
    },
    {
     "data": {
      "text/html": [
       "<pre style=\"white-space:pre;overflow-x:auto;line-height:normal;font-family:Menlo,'DejaVu Sans Mono',consolas,'Courier New',monospace\"></pre>\n"
      ],
      "text/plain": []
     },
     "metadata": {},
     "output_type": "display_data"
    },
    {
     "data": {
      "text/html": [
       "<pre style=\"white-space:pre;overflow-x:auto;line-height:normal;font-family:Menlo,'DejaVu Sans Mono',consolas,'Courier New',monospace\"><span style=\"color: #00d7af; text-decoration-color: #00d7af\">Interrupted!</span>\n",
       "<span style=\"color: #00d7af; text-decoration-color: #00d7af\">You can retrieve the job status with `</span><span style=\"color: #00d7af; text-decoration-color: #00d7af; font-weight: bold\">run(</span><span style=\"color: #00d7af; text-decoration-color: #00d7af\">job_id</span><span style=\"color: #00d7af; text-decoration-color: #00d7af\">=</span><span style=\"color: #00d7af; text-decoration-color: #00d7af\">'fc-HkANDUul7t0KbSXOPn1jkr'</span><span style=\"color: #00d7af; text-decoration-color: #00d7af; font-weight: bold\">)</span><span style=\"color: #00d7af; text-decoration-color: #00d7af\">`</span>\n",
       "</pre>\n"
      ],
      "text/plain": [
       "\u001b[38;5;43mInterrupted!\u001b[0m\n",
       "\u001b[38;5;43mYou can retrieve the job status with `\u001b[0m\u001b[1;38;5;43mrun\u001b[0m\u001b[1;38;5;43m(\u001b[0m\u001b[38;5;43mjob_id\u001b[0m\u001b[38;5;43m=\u001b[0m\u001b[38;5;43m'fc-HkANDUul7t0KbSXOPn1jkr'\u001b[0m\u001b[1;38;5;43m)\u001b[0m\u001b[38;5;43m`\u001b[0m\n"
      ]
     },
     "metadata": {},
     "output_type": "display_data"
    }
   ],
   "source": [
    "ds = fastrepl.remote_runner(generator=generator).run()"
   ]
  },
  {
   "cell_type": "code",
   "execution_count": 9,
   "metadata": {},
   "outputs": [
    {
     "data": {
      "application/vnd.jupyter.widget-view+json": {
       "model_id": "829b17973489469bae6e0ec96d7112c8",
       "version_major": 2,
       "version_minor": 0
      },
      "text/plain": [
       "Output()"
      ]
     },
     "metadata": {},
     "output_type": "display_data"
    },
    {
     "data": {
      "text/html": [
       "<pre style=\"white-space:pre;overflow-x:auto;line-height:normal;font-family:Menlo,'DejaVu Sans Mono',consolas,'Courier New',monospace\"></pre>\n"
      ],
      "text/plain": []
     },
     "metadata": {},
     "output_type": "display_data"
    }
   ],
   "source": [
    "ds = fastrepl.remote_runner(generator=generator).run(job_id=\"fc-HkANDUul7t0KbSXOPn1jkr\")"
   ]
  },
  {
   "cell_type": "code",
   "execution_count": 10,
   "metadata": {},
   "outputs": [
    {
     "data": {
      "text/plain": [
       "fastrepl.Dataset({\n",
       "    features: ['question'],\n",
       "    num_rows: 38\n",
       "})"
      ]
     },
     "execution_count": 10,
     "metadata": {},
     "output_type": "execute_result"
    }
   ],
   "source": [
    "ds"
   ]
  },
  {
   "cell_type": "code",
   "execution_count": 11,
   "metadata": {},
   "outputs": [
    {
     "data": {
      "text/plain": [
       "['How can you nurture and protect your morale when working on ambitious projects?',\n",
       " 'What are the advantages of having good colleagues when doing great work?',\n",
       " 'Why is it important to avoid affectation in your work?',\n",
       " 'How can curiosity be a driving force in doing great work?',\n",
       " 'What are the three qualities that the work you choose needs to have?',\n",
       " 'What are the drawbacks of getting paid for doing work close to what you want?',\n",
       " 'Why is it difficult to figure out what to work on?',\n",
       " 'Why is it important to have a more precise explanation for an idea that authorities discount?',\n",
       " 'How can standup comedy be a source of new ideas?',\n",
       " 'Why is it beneficial to seek out the best colleagues and work collaboratively on projects?']"
      ]
     },
     "execution_count": 11,
     "metadata": {},
     "output_type": "execute_result"
    }
   ],
   "source": [
    "questions = ds[\"question\"]\n",
    "questions = questions[:10]\n",
    "questions"
   ]
  },
  {
   "cell_type": "code",
   "execution_count": 12,
   "metadata": {},
   "outputs": [
    {
     "data": {
      "application/vnd.jupyter.widget-view+json": {
       "model_id": "c741072f46c042c2a64241096ded8cd7",
       "version_major": 2,
       "version_minor": 0
      },
      "text/plain": [
       "Output()"
      ]
     },
     "metadata": {},
     "output_type": "display_data"
    },
    {
     "data": {
      "text/html": [
       "<pre style=\"white-space:pre;overflow-x:auto;line-height:normal;font-family:Menlo,'DejaVu Sans Mono',consolas,'Courier New',monospace\"></pre>\n"
      ],
      "text/plain": []
     },
     "metadata": {},
     "output_type": "display_data"
    },
    {
     "data": {
      "text/html": [
       "<pre style=\"white-space:pre;overflow-x:auto;line-height:normal;font-family:Menlo,'DejaVu Sans Mono',consolas,'Courier New',monospace\">\n",
       "</pre>\n"
      ],
      "text/plain": [
       "\n"
      ]
     },
     "metadata": {},
     "output_type": "display_data"
    },
    {
     "data": {
      "text/plain": [
       "['You can nurture and protect your morale when working on ambitious projects by maintaining a positive outlook on life. Being an optimist can help you stay motivated and focused on your goals. Additionally, it is important to take care of yourself physically and mentally by practicing self-care activities such as exercise, getting enough rest, and engaging in activities that bring you joy. Surrounding yourself with a supportive network of friends, family, or colleagues can also help boost your morale and provide encouragement during challenging times.',\n",
       " 'The advantages of having good colleagues when doing great work include:\\n\\n1. Surprising insights: Good colleagues can offer unique perspectives and ideas that you may not have considered. Their different experiences and expertise can bring fresh insights to the table, leading to innovative solutions and better outcomes.\\n\\n2. Complementary skills: Good colleagues often possess different skills and strengths, which can complement your own abilities. This allows for a more well-rounded approach to problem-solving and increases the chances of success.\\n\\n3. Collaboration and teamwork: Working with good colleagues fosters a collaborative and supportive environment. This promotes effective teamwork, where everyone can contribute their expertise and work towards a common goal. Collaboration often leads to increased productivity and efficiency.\\n\\n4. Learning and growth: Interacting with talented colleagues provides opportunities for continuous learning and personal growth. You can learn from their experiences, knowledge, and skills, which can enhance your own professional development.\\n\\n5. Motivation and inspiration: Being surrounded by competent colleagues can be highly motivating and inspiring. Their achievements and dedication can push you to strive for excellence and reach your full potential.\\n\\nOverall, having good colleagues when doing great work can lead to better outcomes, increased creativity, and personal growth.',\n",
       " \"Avoiding affectation in your work is important because it allows your true self to shine through. When you are genuine and authentic in your work, it shows in the final product. Affectation, or the act of pretending to be someone or something you're not, can come across as fake and insincere. By avoiding affectation, you can ensure that your work is a true reflection of your abilities and talents.\",\n",
       " 'The three qualities that the work you choose needs to have are: \\n1. Natural aptitude\\n2. Deep interest\\n3. Scope to do great work',\n",
       " 'The drawbacks of getting paid for doing work close to what you want are not specified in the given context.',\n",
       " 'Curiosity can be a driving force in doing great work because it helps in several ways. Firstly, curiosity helps in choosing the field or area of work that truly interests and excites you. It allows you to explore different options and find what you are passionate about. Secondly, curiosity pushes you to constantly seek new knowledge and stay at the forefront of your field. It motivates you to continuously learn and grow, ensuring that you are always improving and staying ahead. Thirdly, curiosity enables you to identify gaps or areas for improvement within your field. It helps you to question existing knowledge and practices, leading to innovative solutions and advancements. Lastly, curiosity drives you to explore these gaps and push the boundaries of what is known. It encourages you to take risks, experiment, and think outside the box, ultimately leading to breakthroughs and great work.',\n",
       " 'It is difficult to figure out what to work on because when you are young, you may not know what you are good at or what different kinds of work are like. Additionally, some kinds of work that exist now may not have existed when you were younger. Therefore, it takes time and experience to discover what you are truly interested in and passionate about.',\n",
       " 'Standup comedy can be a source of new ideas because it often involves noticing anomalies in everyday life. Comedians often point out things that are unexpected or unusual, which can lead to fresh perspectives and insights. By observing and commenting on nontrivial things, comedians can spark new thoughts and generate innovative ideas.',\n",
       " 'It is important to have a more precise explanation for an idea that authorities discount because without a clear and specific explanation, the idea may be dismissed as unfounded or irrational. Authorities typically rely on evidence, logic, and expertise to evaluate ideas, so if someone cannot provide a more precise explanation for their idea, it may be seen as lacking credibility. Additionally, a more precise explanation allows for better understanding and communication of the idea, increasing the chances of it being taken seriously and potentially gaining support or recognition.',\n",
       " 'It is beneficial to seek out the best colleagues and work collaboratively on projects because they can offer surprising insights and perspectives that you may not have considered. They can see and do things that you cannot, which can lead to more innovative and successful outcomes. Collaborating with highly skilled colleagues can also help to keep you on your toes and push you to perform at a higher level. Additionally, some projects require a larger team and working collaboratively with the best colleagues can help ensure the success of these larger-scale projects.']"
      ]
     },
     "execution_count": 12,
     "metadata": {},
     "output_type": "execute_result"
    }
   ],
   "source": [
    "answers = fastrepl.local_runner(fn=pg_bot.query).run(\n",
    "    args_list=[(q,) for q in questions]\n",
    ")\n",
    "answers"
   ]
  },
  {
   "cell_type": "code",
   "execution_count": 13,
   "metadata": {},
   "outputs": [
    {
     "data": {
      "application/vnd.jupyter.widget-view+json": {
       "model_id": "1f9b2368eb2c49b188de63b5bd78573c",
       "version_major": 2,
       "version_minor": 0
      },
      "text/plain": [
       "Output()"
      ]
     },
     "metadata": {},
     "output_type": "display_data"
    },
    {
     "data": {
      "text/html": [
       "<pre style=\"white-space:pre;overflow-x:auto;line-height:normal;font-family:Menlo,'DejaVu Sans Mono',consolas,'Courier New',monospace\"></pre>\n"
      ],
      "text/plain": []
     },
     "metadata": {},
     "output_type": "display_data"
    },
    {
     "data": {
      "text/html": [
       "<pre style=\"white-space:pre;overflow-x:auto;line-height:normal;font-family:Menlo,'DejaVu Sans Mono',consolas,'Courier New',monospace\">\n",
       "</pre>\n"
      ],
      "text/plain": [
       "\n"
      ]
     },
     "metadata": {},
     "output_type": "display_data"
    },
    {
     "data": {
      "text/plain": [
       "[[\"have to become a manager, and managing well takes aptitude and interest like any other kind of work. If you don't have them, there is no middle path: you must either force yourself to learn management as a second language, or avoid such projects. [27] Husband your morale. It's the basis of everything when you're working on ambitious projects. You have to nurture and protect it like a living organism.Morale starts with your view of life. You're more likely to do great work if you're an optimist,\"],\n",
       " ['the fakeness is what shows in the work. [12]The temptation to be someone else is greatest for the young. They often feel like nobodies. But you never need to worry about that problem, because it\\'s self-solving if you work on sufficiently ambitious projects. If you succeed at an ambitious project, you\\'re not a nobody; you\\'re the person who did it. So just do the work and your identity will take care of itself. \"Avoid affectation\" is a useful rule so far as it goes, but how would you express this'],\n",
       " [\"possible to give a more concrete answer than that. Here's an attempt: sufficiently good colleagues offer surprising insights. They can see and do things that you can't. So if you have a handful of colleagues good enough to keep you on your toes in this sense, you're probably over the threshold.Most of us can benefit from collaborating with colleagues, but some projects require people on a larger scale, and starting one of those is not for everyone. If you want to run a project like that, you'll\"],\n",
       " [\"not enough just to be curious, and you can't command curiosity anyway. But you can nurture it and let it drive you.Curiosity is the key to all four steps in doing great work: it will choose the field for you, get you to the frontier, cause you to notice the gaps in it, and drive you to explore them. The whole process is a kind of dance with curiosity. Believe it or not, I tried to make this essay as short as I could. But its length at least means it acts as a filter. If you made it this far,\"],\n",
       " ['you want and hope to push it closer, or get paid for doing something else entirely and do your own projects on the side. Both can work, but both have drawbacks: in the first approach your work is compromised by default, and in the second you have to fight to get time to do it.[10] If you set your life up right, it will deliver the focus-relax cycle automatically. The perfect setup is an office you work in and that you walk to and from.[11] There may be some very unworldly people who do great'],\n",
       " [\"ambitious. The first step is to decide what to work on. The work you choose needs to have three qualities: it has to be something you have a natural aptitude for, that you have a deep interest in, and that offers scope to do great work.In practice you don't have to worry much about the third criterion. Ambitious people are if anything already too conservative about it. So all you need to do is find something you have an aptitude for and great interest in. [1]That sounds straightforward, but\"],\n",
       " ['qualifier is critical. If you\\'re excited about something most authorities discount, but you can\\'t give a more precise explanation than \"they don\\'t get it,\" then you\\'re starting to drift into the territory of cranks.[4] Finding something to work on is not simply a matter of finding a match between the current version of you and a list of known problems. You\\'ll often have to coevolve with the problem. That\\'s why it can sometimes be so hard to figure out what to work on. The search space is huge.'],\n",
       " [\"it's often quite difficult. When you're young you don't know what you're good at or what different kinds of work are like. Some kinds of work you end up doing may not even exist yet. So while some people know what they want to do at 14, most have to figure it out.The way to figure out what to work on is by working. If you're not sure what to work on, guess. But pick something and get going. You'll probably guess wrong some of the time, but that's fine. It's good to know about multiple things;\"],\n",
       " ['time anyway. So I\\'d rather people focused on developing their interests rather than worrying about whether they\\'re important or not. Just try to do something amazing, and leave it to future generations to say if you succeeded.[2] A lot of standup comedy is based on noticing anomalies in everyday life. \"Did you ever notice.?\" New ideas come from doing this about nontrivial things. Which may help explain why people\\'s reaction to a new idea is often the first half of laughing: Ha![3] That second'],\n",
       " [\"possible to give a more concrete answer than that. Here's an attempt: sufficiently good colleagues offer surprising insights. They can see and do things that you can't. So if you have a handful of colleagues good enough to keep you on your toes in this sense, you're probably over the threshold.Most of us can benefit from collaborating with colleagues, but some projects require people on a larger scale, and starting one of those is not for everyone. If you want to run a project like that, you'll\"]]"
      ]
     },
     "execution_count": 13,
     "metadata": {},
     "output_type": "execute_result"
    }
   ],
   "source": [
    "contexts = fastrepl.local_runner(fn=pg_bot.retrieve_from_database).run(\n",
    "    args_list=[(q,) for q in questions]\n",
    ")\n",
    "contexts"
   ]
  },
  {
   "cell_type": "code",
   "execution_count": 14,
   "metadata": {},
   "outputs": [
    {
     "data": {
      "text/plain": [
       "fastrepl.Dataset({\n",
       "    features: ['question', 'answer', 'contexts'],\n",
       "    num_rows: 10\n",
       "})"
      ]
     },
     "execution_count": 14,
     "metadata": {},
     "output_type": "execute_result"
    }
   ],
   "source": [
    "ds = fastrepl.Dataset.from_dict(\n",
    "    {\n",
    "        \"question\": questions,\n",
    "        \"answer\": answers,\n",
    "        \"contexts\": contexts,\n",
    "    }\n",
    ")\n",
    "ds"
   ]
  },
  {
   "cell_type": "code",
   "execution_count": 15,
   "metadata": {},
   "outputs": [],
   "source": [
    "evaluator = fastrepl.RAGEvaluator(node=fastrepl.RAGAS(metric=\"AnswerRelevancy\"))"
   ]
  },
  {
   "cell_type": "code",
   "execution_count": 16,
   "metadata": {},
   "outputs": [
    {
     "data": {
      "text/html": [
       "<pre style=\"white-space:pre;overflow-x:auto;line-height:normal;font-family:Menlo,'DejaVu Sans Mono',consolas,'Courier New',monospace\">\n",
       "</pre>\n"
      ],
      "text/plain": [
       "\n"
      ]
     },
     "metadata": {},
     "output_type": "display_data"
    },
    {
     "data": {
      "text/plain": [
       "fastrepl.Dataset({\n",
       "    features: ['question', 'answer', 'contexts', 'result'],\n",
       "    num_rows: 10\n",
       "})"
      ]
     },
     "execution_count": 16,
     "metadata": {},
     "output_type": "execute_result"
    }
   ],
   "source": [
    "result = fastrepl.local_runner(evaluator=evaluator, dataset=ds).run(show_progress=False)\n",
    "result"
   ]
  },
  {
   "cell_type": "code",
   "execution_count": 17,
   "metadata": {},
   "outputs": [
    {
     "data": {
      "text/plain": [
       "[0.9905149669187113,\n",
       " 1.0000000000000002,\n",
       " 1.0,\n",
       " 0.8224544027340016,\n",
       " 0.7210508405457526,\n",
       " 0.7865917085330983,\n",
       " 0.8919254408115931,\n",
       " 0.7868346213471876,\n",
       " 0.7260811619842708,\n",
       " 0.9852220816665399]"
      ]
     },
     "execution_count": 17,
     "metadata": {},
     "output_type": "execute_result"
    }
   ],
   "source": [
    "result[\"result\"]"
   ]
  }
 ],
 "metadata": {
  "kernelspec": {
   "display_name": ".venv",
   "language": "python",
   "name": "python3"
  },
  "language_info": {
   "codemirror_mode": {
    "name": "ipython",
    "version": 3
   },
   "file_extension": ".py",
   "mimetype": "text/x-python",
   "name": "python",
   "nbconvert_exporter": "python",
   "pygments_lexer": "ipython3",
   "version": "3.11.3"
  },
  "orig_nbformat": 4
 },
 "nbformat": 4,
 "nbformat_minor": 2
}
