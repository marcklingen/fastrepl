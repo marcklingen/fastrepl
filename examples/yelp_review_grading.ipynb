{
 "cells": [
  {
   "cell_type": "code",
   "execution_count": 1,
   "metadata": {},
   "outputs": [],
   "source": [
    "import fastrepl"
   ]
  },
  {
   "cell_type": "code",
   "execution_count": 2,
   "metadata": {},
   "outputs": [],
   "source": [
    "from IPython.display import clear_output"
   ]
  },
  {
   "cell_type": "code",
   "execution_count": null,
   "metadata": {},
   "outputs": [],
   "source": [
    "%env OPENAI_API_KEY=\n",
    "%env NUM_THREADS=24"
   ]
  },
  {
   "cell_type": "code",
   "execution_count": 4,
   "metadata": {},
   "outputs": [],
   "source": [
    "from datasets import load_dataset\n",
    "\n",
    "dataset = load_dataset(\"yelp_review_full\", split=\"test\")\n",
    "dataset = dataset.shuffle(seed=8)\n",
    "dataset = dataset.select(range(50))\n",
    "dataset = dataset.rename_column(\"text\", \"sample\")\n",
    "dataset = dataset.map(\n",
    "    lambda row: {\"reference\": row[\"label\"] + 1, \"sample\": row[\"sample\"]},\n",
    "    remove_columns=[\"label\"],\n",
    ")"
   ]
  },
  {
   "cell_type": "code",
   "execution_count": 5,
   "metadata": {},
   "outputs": [
    {
     "data": {
      "text/plain": [
       "Dataset({\n",
       "    features: ['sample', 'reference'],\n",
       "    num_rows: 50\n",
       "})"
      ]
     },
     "execution_count": 5,
     "metadata": {},
     "output_type": "execute_result"
    }
   ],
   "source": [
    "dataset"
   ]
  },
  {
   "cell_type": "code",
   "execution_count": 5,
   "metadata": {},
   "outputs": [],
   "source": [
    "def to_number(example):\n",
    "    if example[\"prediction\"] is None:\n",
    "        print(\"None\")\n",
    "        example[\"prediction\"] = 0\n",
    "    example[\"prediction\"] = float(example[\"prediction\"])\n",
    "    return example\n",
    "\n",
    "\n",
    "def print_metric(metric_name, predictions, references):\n",
    "    metric = fastrepl.load_metric(metric_name)\n",
    "    result = metric.run(predictions=predictions, references=references)\n",
    "    print(f\"{metric_name}: {result[metric_name]}\")"
   ]
  },
  {
   "cell_type": "code",
   "execution_count": 6,
   "metadata": {},
   "outputs": [
    {
     "data": {
      "application/vnd.jupyter.widget-view+json": {
       "model_id": "4a203ffe0e514175aa774e91a009aeae",
       "version_major": 2,
       "version_minor": 0
      },
      "text/plain": [
       "Output()"
      ]
     },
     "metadata": {},
     "output_type": "display_data"
    },
    {
     "data": {
      "text/html": [
       "<pre style=\"white-space:pre;overflow-x:auto;line-height:normal;font-family:Menlo,'DejaVu Sans Mono',consolas,'Courier New',monospace\">/Users/yujonglee/dev/fastrepl/fastrepl/fastrepl/warnings.py:25: CompletionTruncatedWarning: 5 | \n",
       "https://docs.fastrepl.com/miscellaneous/warnings_and_errors#completiontruncated\n",
       "</pre>\n"
      ],
      "text/plain": [
       "/Users/yujonglee/dev/fastrepl/fastrepl/fastrepl/warnings.py:25: CompletionTruncatedWarning: 5 | \n",
       "https://docs.fastrepl.com/miscellaneous/warnings_and_errors#completiontruncated\n"
      ]
     },
     "metadata": {},
     "output_type": "display_data"
    },
    {
     "data": {
      "text/html": [
       "<pre style=\"white-space:pre;overflow-x:auto;line-height:normal;font-family:Menlo,'DejaVu Sans Mono',consolas,'Courier New',monospace\">/Users/yujonglee/dev/fastrepl/fastrepl/fastrepl/warnings.py:25: CompletionTruncatedWarning: 4 | \n",
       "https://docs.fastrepl.com/miscellaneous/warnings_and_errors#completiontruncated\n",
       "</pre>\n"
      ],
      "text/plain": [
       "/Users/yujonglee/dev/fastrepl/fastrepl/fastrepl/warnings.py:25: CompletionTruncatedWarning: 4 | \n",
       "https://docs.fastrepl.com/miscellaneous/warnings_and_errors#completiontruncated\n"
      ]
     },
     "metadata": {},
     "output_type": "display_data"
    },
    {
     "data": {
      "text/html": [
       "<pre style=\"white-space:pre;overflow-x:auto;line-height:normal;font-family:Menlo,'DejaVu Sans Mono',consolas,'Courier New',monospace\">/Users/yujonglee/dev/fastrepl/fastrepl/fastrepl/warnings.py:25: CompletionTruncatedWarning: 2 | \n",
       "https://docs.fastrepl.com/miscellaneous/warnings_and_errors#completiontruncated\n",
       "</pre>\n"
      ],
      "text/plain": [
       "/Users/yujonglee/dev/fastrepl/fastrepl/fastrepl/warnings.py:25: CompletionTruncatedWarning: 2 | \n",
       "https://docs.fastrepl.com/miscellaneous/warnings_and_errors#completiontruncated\n"
      ]
     },
     "metadata": {},
     "output_type": "display_data"
    },
    {
     "data": {
      "text/html": [
       "<pre style=\"white-space:pre;overflow-x:auto;line-height:normal;font-family:Menlo,'DejaVu Sans Mono',consolas,'Courier New',monospace\">/Users/yujonglee/dev/fastrepl/fastrepl/fastrepl/warnings.py:25: CompletionTruncatedWarning: 3 | \n",
       "https://docs.fastrepl.com/miscellaneous/warnings_and_errors#completiontruncated\n",
       "</pre>\n"
      ],
      "text/plain": [
       "/Users/yujonglee/dev/fastrepl/fastrepl/fastrepl/warnings.py:25: CompletionTruncatedWarning: 3 | \n",
       "https://docs.fastrepl.com/miscellaneous/warnings_and_errors#completiontruncated\n"
      ]
     },
     "metadata": {},
     "output_type": "display_data"
    },
    {
     "data": {
      "text/html": [
       "<pre style=\"white-space:pre;overflow-x:auto;line-height:normal;font-family:Menlo,'DejaVu Sans Mono',consolas,'Courier New',monospace\">/Users/yujonglee/dev/fastrepl/fastrepl/fastrepl/warnings.py:25: CompletionTruncatedWarning: 1 | \n",
       "https://docs.fastrepl.com/miscellaneous/warnings_and_errors#completiontruncated\n",
       "</pre>\n"
      ],
      "text/plain": [
       "/Users/yujonglee/dev/fastrepl/fastrepl/fastrepl/warnings.py:25: CompletionTruncatedWarning: 1 | \n",
       "https://docs.fastrepl.com/miscellaneous/warnings_and_errors#completiontruncated\n"
      ]
     },
     "metadata": {},
     "output_type": "display_data"
    },
    {
     "data": {
      "text/html": [
       "<pre style=\"white-space:pre;overflow-x:auto;line-height:normal;font-family:Menlo,'DejaVu Sans Mono',consolas,'Courier New',monospace\"></pre>\n"
      ],
      "text/plain": []
     },
     "metadata": {},
     "output_type": "display_data"
    },
    {
     "data": {
      "text/html": [
       "<pre style=\"white-space:pre;overflow-x:auto;line-height:normal;font-family:Menlo,'DejaVu Sans Mono',consolas,'Courier New',monospace\">\n",
       "</pre>\n"
      ],
      "text/plain": [
       "\n"
      ]
     },
     "metadata": {},
     "output_type": "display_data"
    },
    {
     "data": {
      "application/vnd.jupyter.widget-view+json": {
       "model_id": "2e173bb486f04458ba7f3515bc00beb5",
       "version_major": 2,
       "version_minor": 0
      },
      "text/plain": [
       "Map:   0%|          | 0/50 [00:00<?, ? examples/s]"
      ]
     },
     "metadata": {},
     "output_type": "display_data"
    },
    {
     "name": "stdout",
     "output_type": "stream",
     "text": [
      "accuracy: 0.62\n",
      "mse: 0.44\n",
      "mae: 0.4\n"
     ]
    },
    {
     "data": {
      "text/html": [
       "<div>\n",
       "<style scoped>\n",
       "    .dataframe tbody tr th:only-of-type {\n",
       "        vertical-align: middle;\n",
       "    }\n",
       "\n",
       "    .dataframe tbody tr th {\n",
       "        vertical-align: top;\n",
       "    }\n",
       "\n",
       "    .dataframe thead th {\n",
       "        text-align: right;\n",
       "    }\n",
       "</style>\n",
       "<table border=\"1\" class=\"dataframe\">\n",
       "  <thead>\n",
       "    <tr style=\"text-align: right;\">\n",
       "      <th></th>\n",
       "      <th>sample</th>\n",
       "      <th>reference</th>\n",
       "      <th>prediction</th>\n",
       "    </tr>\n",
       "  </thead>\n",
       "  <tbody>\n",
       "    <tr>\n",
       "      <th>0</th>\n",
       "      <td>Stayed at the Wm Penn down the street for a we...</td>\n",
       "      <td>5</td>\n",
       "      <td>5.0</td>\n",
       "    </tr>\n",
       "    <tr>\n",
       "      <th>1</th>\n",
       "      <td>We tried out the lunch specials and found them...</td>\n",
       "      <td>4</td>\n",
       "      <td>4.0</td>\n",
       "    </tr>\n",
       "    <tr>\n",
       "      <th>2</th>\n",
       "      <td>Should have known better than to eat in a plac...</td>\n",
       "      <td>1</td>\n",
       "      <td>2.0</td>\n",
       "    </tr>\n",
       "    <tr>\n",
       "      <th>3</th>\n",
       "      <td>This place has sure changed...and not for the ...</td>\n",
       "      <td>2</td>\n",
       "      <td>3.0</td>\n",
       "    </tr>\n",
       "    <tr>\n",
       "      <th>4</th>\n",
       "      <td>I've been bringing my son to the owner Michael...</td>\n",
       "      <td>5</td>\n",
       "      <td>5.0</td>\n",
       "    </tr>\n",
       "    <tr>\n",
       "      <th>5</th>\n",
       "      <td>The trip to the location takes two busses and ...</td>\n",
       "      <td>1</td>\n",
       "      <td>1.0</td>\n",
       "    </tr>\n",
       "    <tr>\n",
       "      <th>6</th>\n",
       "      <td>This restaurant was suggested to me by a frien...</td>\n",
       "      <td>4</td>\n",
       "      <td>5.0</td>\n",
       "    </tr>\n",
       "    <tr>\n",
       "      <th>7</th>\n",
       "      <td>This place is unique because you are sitting o...</td>\n",
       "      <td>3</td>\n",
       "      <td>3.0</td>\n",
       "    </tr>\n",
       "    <tr>\n",
       "      <th>8</th>\n",
       "      <td>Whew, $10 for a whiskey ginger ale and $18 for...</td>\n",
       "      <td>3</td>\n",
       "      <td>4.0</td>\n",
       "    </tr>\n",
       "    <tr>\n",
       "      <th>9</th>\n",
       "      <td>Loove me some Pei Wei! Boyfriend isn't a fan, ...</td>\n",
       "      <td>4</td>\n",
       "      <td>5.0</td>\n",
       "    </tr>\n",
       "  </tbody>\n",
       "</table>\n",
       "</div>"
      ],
      "text/plain": [
       "                                              sample  reference  prediction\n",
       "0  Stayed at the Wm Penn down the street for a we...          5         5.0\n",
       "1  We tried out the lunch specials and found them...          4         4.0\n",
       "2  Should have known better than to eat in a plac...          1         2.0\n",
       "3  This place has sure changed...and not for the ...          2         3.0\n",
       "4  I've been bringing my son to the owner Michael...          5         5.0\n",
       "5  The trip to the location takes two busses and ...          1         1.0\n",
       "6  This restaurant was suggested to me by a frien...          4         5.0\n",
       "7  This place is unique because you are sitting o...          3         3.0\n",
       "8  Whew, $10 for a whiskey ginger ale and $18 for...          3         4.0\n",
       "9  Loove me some Pei Wei! Boyfriend isn't a fan, ...          4         5.0"
      ]
     },
     "execution_count": 6,
     "metadata": {},
     "output_type": "execute_result"
    }
   ],
   "source": [
    "clear_output(wait=True)\n",
    "\n",
    "eval1 = fastrepl.SimpleEvaluator(\n",
    "    node=fastrepl.LLMGradingHead(\n",
    "        model=\"gpt-3.5-turbo\",\n",
    "        context=\"You will get a input text from Yelp review. Grade user's satisfaction from 1 to 5.\",\n",
    "        number_from=1,\n",
    "        number_to=5,\n",
    "        position_debias_strategy=\"shuffle\",\n",
    "    )\n",
    ")\n",
    "\n",
    "result1 = fastrepl.local_runner(\n",
    "    evaluator=eval1,\n",
    "    dataset=dataset,\n",
    "    output_feature=\"prediction\",\n",
    ").run()\n",
    "result1 = result1.map(to_number)\n",
    "\n",
    "print_metric(\"accuracy\", result1[\"prediction\"], result1[\"reference\"])\n",
    "print_metric(\"mse\", result1[\"prediction\"], result1[\"reference\"])\n",
    "print_metric(\"mae\", result1[\"prediction\"], result1[\"reference\"])\n",
    "\n",
    "result1.to_pandas()[:10]"
   ]
  },
  {
   "cell_type": "code",
   "execution_count": 6,
   "metadata": {},
   "outputs": [
    {
     "data": {
      "application/vnd.jupyter.widget-view+json": {
       "model_id": "3640740823b14aafa038feb91ceb5384",
       "version_major": 2,
       "version_minor": 0
      },
      "text/plain": [
       "Output()"
      ]
     },
     "metadata": {},
     "output_type": "display_data"
    },
    {
     "data": {
      "text/html": [
       "<pre style=\"white-space:pre;overflow-x:auto;line-height:normal;font-family:Menlo,'DejaVu Sans Mono',consolas,'Courier New',monospace\">/Users/yujonglee/dev/fastrepl/fastrepl/fastrepl/warnings.py:25: FloatGradingWarning: 3.5 is not an integer. | \n",
       "https://docs.fastrepl.com/miscellaneous/warnings_and_errors#floatgrading\n",
       "</pre>\n"
      ],
      "text/plain": [
       "/Users/yujonglee/dev/fastrepl/fastrepl/fastrepl/warnings.py:25: FloatGradingWarning: 3.5 is not an integer. | \n",
       "https://docs.fastrepl.com/miscellaneous/warnings_and_errors#floatgrading\n"
      ]
     },
     "metadata": {},
     "output_type": "display_data"
    },
    {
     "data": {
      "text/html": [
       "<pre style=\"white-space:pre;overflow-x:auto;line-height:normal;font-family:Menlo,'DejaVu Sans Mono',consolas,'Courier New',monospace\">/Users/yujonglee/dev/fastrepl/fastrepl/fastrepl/warnings.py:25: FloatGradingWarning: 2.5 is not an integer. | \n",
       "https://docs.fastrepl.com/miscellaneous/warnings_and_errors#floatgrading\n",
       "</pre>\n"
      ],
      "text/plain": [
       "/Users/yujonglee/dev/fastrepl/fastrepl/fastrepl/warnings.py:25: FloatGradingWarning: 2.5 is not an integer. | \n",
       "https://docs.fastrepl.com/miscellaneous/warnings_and_errors#floatgrading\n"
      ]
     },
     "metadata": {},
     "output_type": "display_data"
    },
    {
     "data": {
      "text/html": [
       "<pre style=\"white-space:pre;overflow-x:auto;line-height:normal;font-family:Menlo,'DejaVu Sans Mono',consolas,'Courier New',monospace\"></pre>\n"
      ],
      "text/plain": []
     },
     "metadata": {},
     "output_type": "display_data"
    },
    {
     "data": {
      "text/html": [
       "<pre style=\"white-space:pre;overflow-x:auto;line-height:normal;font-family:Menlo,'DejaVu Sans Mono',consolas,'Courier New',monospace\">\n",
       "</pre>\n"
      ],
      "text/plain": [
       "\n"
      ]
     },
     "metadata": {},
     "output_type": "display_data"
    },
    {
     "data": {
      "application/vnd.jupyter.widget-view+json": {
       "model_id": "3fa32a32538043e1b74aa68095a5f947",
       "version_major": 2,
       "version_minor": 0
      },
      "text/plain": [
       "Map:   0%|          | 0/50 [00:00<?, ? examples/s]"
      ]
     },
     "metadata": {},
     "output_type": "display_data"
    },
    {
     "name": "stdout",
     "output_type": "stream",
     "text": [
      "accuracy: 0.74\n",
      "mse: 0.25\n",
      "mae: 0.26\n"
     ]
    },
    {
     "data": {
      "text/html": [
       "<div>\n",
       "<style scoped>\n",
       "    .dataframe tbody tr th:only-of-type {\n",
       "        vertical-align: middle;\n",
       "    }\n",
       "\n",
       "    .dataframe tbody tr th {\n",
       "        vertical-align: top;\n",
       "    }\n",
       "\n",
       "    .dataframe thead th {\n",
       "        text-align: right;\n",
       "    }\n",
       "</style>\n",
       "<table border=\"1\" class=\"dataframe\">\n",
       "  <thead>\n",
       "    <tr style=\"text-align: right;\">\n",
       "      <th></th>\n",
       "      <th>sample</th>\n",
       "      <th>reference</th>\n",
       "      <th>prediction</th>\n",
       "    </tr>\n",
       "  </thead>\n",
       "  <tbody>\n",
       "    <tr>\n",
       "      <th>0</th>\n",
       "      <td>Stayed at the Wm Penn down the street for a we...</td>\n",
       "      <td>5</td>\n",
       "      <td>4.0</td>\n",
       "    </tr>\n",
       "    <tr>\n",
       "      <th>1</th>\n",
       "      <td>We tried out the lunch specials and found them...</td>\n",
       "      <td>4</td>\n",
       "      <td>4.0</td>\n",
       "    </tr>\n",
       "    <tr>\n",
       "      <th>2</th>\n",
       "      <td>Should have known better than to eat in a plac...</td>\n",
       "      <td>1</td>\n",
       "      <td>1.0</td>\n",
       "    </tr>\n",
       "    <tr>\n",
       "      <th>3</th>\n",
       "      <td>This place has sure changed...and not for the ...</td>\n",
       "      <td>2</td>\n",
       "      <td>2.0</td>\n",
       "    </tr>\n",
       "    <tr>\n",
       "      <th>4</th>\n",
       "      <td>I've been bringing my son to the owner Michael...</td>\n",
       "      <td>5</td>\n",
       "      <td>5.0</td>\n",
       "    </tr>\n",
       "    <tr>\n",
       "      <th>5</th>\n",
       "      <td>The trip to the location takes two busses and ...</td>\n",
       "      <td>1</td>\n",
       "      <td>1.0</td>\n",
       "    </tr>\n",
       "    <tr>\n",
       "      <th>6</th>\n",
       "      <td>This restaurant was suggested to me by a frien...</td>\n",
       "      <td>4</td>\n",
       "      <td>4.0</td>\n",
       "    </tr>\n",
       "    <tr>\n",
       "      <th>7</th>\n",
       "      <td>This place is unique because you are sitting o...</td>\n",
       "      <td>3</td>\n",
       "      <td>3.0</td>\n",
       "    </tr>\n",
       "    <tr>\n",
       "      <th>8</th>\n",
       "      <td>Whew, $10 for a whiskey ginger ale and $18 for...</td>\n",
       "      <td>3</td>\n",
       "      <td>3.0</td>\n",
       "    </tr>\n",
       "    <tr>\n",
       "      <th>9</th>\n",
       "      <td>Loove me some Pei Wei! Boyfriend isn't a fan, ...</td>\n",
       "      <td>4</td>\n",
       "      <td>5.0</td>\n",
       "    </tr>\n",
       "  </tbody>\n",
       "</table>\n",
       "</div>"
      ],
      "text/plain": [
       "                                              sample  reference  prediction\n",
       "0  Stayed at the Wm Penn down the street for a we...          5         4.0\n",
       "1  We tried out the lunch specials and found them...          4         4.0\n",
       "2  Should have known better than to eat in a plac...          1         1.0\n",
       "3  This place has sure changed...and not for the ...          2         2.0\n",
       "4  I've been bringing my son to the owner Michael...          5         5.0\n",
       "5  The trip to the location takes two busses and ...          1         1.0\n",
       "6  This restaurant was suggested to me by a frien...          4         4.0\n",
       "7  This place is unique because you are sitting o...          3         3.0\n",
       "8  Whew, $10 for a whiskey ginger ale and $18 for...          3         3.0\n",
       "9  Loove me some Pei Wei! Boyfriend isn't a fan, ...          4         5.0"
      ]
     },
     "execution_count": 6,
     "metadata": {},
     "output_type": "execute_result"
    }
   ],
   "source": [
    "clear_output(wait=True)\n",
    "\n",
    "# simple references + COT\n",
    "eval2 = fastrepl.SimpleEvaluator(\n",
    "    node=fastrepl.LLMGradingHeadCOT(\n",
    "        model=\"gpt-3.5-turbo\",\n",
    "        context=\"You will get a input text from Yelp review. Grade user's satisfaction from 1 to 5.\",\n",
    "        number_from=1,\n",
    "        number_to=5,\n",
    "        position_debias_strategy=\"shuffle\",\n",
    "    )\n",
    ")\n",
    "\n",
    "result2 = fastrepl.local_runner(\n",
    "    evaluator=eval2,\n",
    "    dataset=dataset,\n",
    "    output_feature=\"prediction\",\n",
    ").run()\n",
    "result2 = result2.map(to_number)\n",
    "\n",
    "print_metric(\"accuracy\", result2[\"prediction\"], result2[\"reference\"])\n",
    "print_metric(\"mse\", result2[\"prediction\"], result2[\"reference\"])\n",
    "print_metric(\"mae\", result2[\"prediction\"], result2[\"reference\"])\n",
    "\n",
    "result2.to_pandas()[:10]"
   ]
  }
 ],
 "metadata": {
  "kernelspec": {
   "display_name": ".venv",
   "language": "python",
   "name": "python3"
  },
  "language_info": {
   "codemirror_mode": {
    "name": "ipython",
    "version": 3
   },
   "file_extension": ".py",
   "mimetype": "text/x-python",
   "name": "python",
   "nbconvert_exporter": "python",
   "pygments_lexer": "ipython3",
   "version": "3.11.3"
  },
  "orig_nbformat": 4
 },
 "nbformat": 4,
 "nbformat_minor": 2
}
